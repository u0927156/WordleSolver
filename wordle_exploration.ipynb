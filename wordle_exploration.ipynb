{
 "cells": [
  {
   "cell_type": "code",
   "execution_count": 101,
   "metadata": {},
   "outputs": [],
   "source": [
    "import wordle_simulation as ws\n",
    "import wordle_solver_utils as wu\n",
    "import pandas as pd\n",
    "import plotly.express as px\n",
    "import plotly.graph_objects as go\n",
    "import random\n",
    "from scipy.stats import ks_2samp\n",
    "import numpy as np"
   ]
  },
  {
   "cell_type": "markdown",
   "metadata": {},
   "source": [
    "# Starting words\n",
    "\n",
    "## Good starting words\n",
    "\n",
    "Let's start by finding some recommended starting words.\n",
    "\n",
    "We will score each word by how often each of the letters appear, and then pick the top ten highest scorers."
   ]
  },
  {
   "cell_type": "code",
   "execution_count": 40,
   "metadata": {},
   "outputs": [
    {
     "data": {
      "text/plain": [
       "['soare',\n",
       " 'arose',\n",
       " 'aeros',\n",
       " 'serai',\n",
       " 'reais',\n",
       " 'raise',\n",
       " 'arise',\n",
       " 'aesir',\n",
       " 'aloes',\n",
       " 'toeas']"
      ]
     },
     "execution_count": 40,
     "metadata": {},
     "output_type": "execute_result"
    }
   ],
   "source": [
    "words = ws.load_words()\n",
    "suggested_starting_words = wu.find_options(words, 10)\n",
    "suggested_starting_words"
   ]
  },
  {
   "cell_type": "markdown",
   "metadata": {},
   "source": [
    "## Bad Starting Words\n",
    "\n",
    "What if we look for the absolute worst wordle words? To do this instead of getting the ten highest scores, let's get the ten lowest scored words"
   ]
  },
  {
   "cell_type": "code",
   "execution_count": 42,
   "metadata": {},
   "outputs": [
    {
     "data": {
      "text/plain": [
       "['jaffa',\n",
       " 'cocco',\n",
       " 'gyppy',\n",
       " 'zocco',\n",
       " 'zoppo',\n",
       " 'jinni',\n",
       " 'civic',\n",
       " 'qajaq',\n",
       " 'immix',\n",
       " 'xylyl']"
      ]
     },
     "execution_count": 42,
     "metadata": {},
     "output_type": "execute_result"
    }
   ],
   "source": [
    "letter_dict = wu.make_letter_dict(words)\n",
    "\n",
    "scores = wu.score_words(words, letter_dict)\n",
    "\n",
    "sorted_options = [x for _, x in sorted(zip(scores, words), reverse=True)]\n",
    "\n",
    "not_suggested_starting_words = sorted_options[-10:]\n",
    "\n",
    "not_suggested_starting_words"
   ]
  },
  {
   "cell_type": "markdown",
   "metadata": {},
   "source": [
    "## Random Starting Words\n",
    "\n",
    "Let's also get a selection of random starting words."
   ]
  },
  {
   "cell_type": "code",
   "execution_count": 52,
   "metadata": {},
   "outputs": [
    {
     "data": {
      "text/plain": [
       "['roops',\n",
       " 'ranee',\n",
       " 'kloof',\n",
       " 'ingle',\n",
       " 'roomy',\n",
       " 'wages',\n",
       " 'manul',\n",
       " 'latke',\n",
       " 'educt',\n",
       " 'roary']"
      ]
     },
     "execution_count": 52,
     "metadata": {},
     "output_type": "execute_result"
    }
   ],
   "source": [
    "random.seed(42) # Set seed for repeatibility\n",
    "random_words = random.sample(words, 10)\n",
    "random_words"
   ]
  },
  {
   "cell_type": "code",
   "execution_count": null,
   "metadata": {},
   "outputs": [],
   "source": []
  },
  {
   "cell_type": "markdown",
   "metadata": {},
   "source": [
    "# Run the simulation\n",
    "\n",
    "With the wordle solver simulation set up else where, lets try guessing a thousand random words using each of the starting options."
   ]
  },
  {
   "cell_type": "code",
   "execution_count": 51,
   "metadata": {},
   "outputs": [],
   "source": [
    "list_of_starting_words = suggested_starting_words + not_suggested_starting_words + random_words\n",
    "\n",
    "dict_list = [ws.run_simulation(1000, word) for word in list_of_starting_words]"
   ]
  },
  {
   "cell_type": "code",
   "execution_count": 61,
   "metadata": {},
   "outputs": [
    {
     "data": {
      "text/html": [
       "<div>\n",
       "<style scoped>\n",
       "    .dataframe tbody tr th:only-of-type {\n",
       "        vertical-align: middle;\n",
       "    }\n",
       "\n",
       "    .dataframe tbody tr th {\n",
       "        vertical-align: top;\n",
       "    }\n",
       "\n",
       "    .dataframe thead th {\n",
       "        text-align: right;\n",
       "    }\n",
       "</style>\n",
       "<table border=\"1\" class=\"dataframe\">\n",
       "  <thead>\n",
       "    <tr style=\"text-align: right;\">\n",
       "      <th></th>\n",
       "      <th>2</th>\n",
       "      <th>3</th>\n",
       "      <th>4</th>\n",
       "      <th>5</th>\n",
       "      <th>6</th>\n",
       "      <th>Failed</th>\n",
       "      <th>category</th>\n",
       "    </tr>\n",
       "  </thead>\n",
       "  <tbody>\n",
       "    <tr>\n",
       "      <th>soare</th>\n",
       "      <td>0.015</td>\n",
       "      <td>0.158</td>\n",
       "      <td>0.345</td>\n",
       "      <td>0.239</td>\n",
       "      <td>0.144</td>\n",
       "      <td>0.099</td>\n",
       "      <td>good</td>\n",
       "    </tr>\n",
       "    <tr>\n",
       "      <th>arose</th>\n",
       "      <td>0.010</td>\n",
       "      <td>0.152</td>\n",
       "      <td>0.325</td>\n",
       "      <td>0.258</td>\n",
       "      <td>0.129</td>\n",
       "      <td>0.126</td>\n",
       "      <td>good</td>\n",
       "    </tr>\n",
       "    <tr>\n",
       "      <th>aeros</th>\n",
       "      <td>0.013</td>\n",
       "      <td>0.162</td>\n",
       "      <td>0.327</td>\n",
       "      <td>0.254</td>\n",
       "      <td>0.126</td>\n",
       "      <td>0.118</td>\n",
       "      <td>good</td>\n",
       "    </tr>\n",
       "    <tr>\n",
       "      <th>serai</th>\n",
       "      <td>0.017</td>\n",
       "      <td>0.160</td>\n",
       "      <td>0.353</td>\n",
       "      <td>0.227</td>\n",
       "      <td>0.130</td>\n",
       "      <td>0.113</td>\n",
       "      <td>good</td>\n",
       "    </tr>\n",
       "    <tr>\n",
       "      <th>reais</th>\n",
       "      <td>0.013</td>\n",
       "      <td>0.165</td>\n",
       "      <td>0.353</td>\n",
       "      <td>0.230</td>\n",
       "      <td>0.120</td>\n",
       "      <td>0.119</td>\n",
       "      <td>good</td>\n",
       "    </tr>\n",
       "    <tr>\n",
       "      <th>raise</th>\n",
       "      <td>0.008</td>\n",
       "      <td>0.164</td>\n",
       "      <td>0.327</td>\n",
       "      <td>0.246</td>\n",
       "      <td>0.129</td>\n",
       "      <td>0.126</td>\n",
       "      <td>good</td>\n",
       "    </tr>\n",
       "    <tr>\n",
       "      <th>arise</th>\n",
       "      <td>0.009</td>\n",
       "      <td>0.153</td>\n",
       "      <td>0.352</td>\n",
       "      <td>0.245</td>\n",
       "      <td>0.111</td>\n",
       "      <td>0.130</td>\n",
       "      <td>good</td>\n",
       "    </tr>\n",
       "    <tr>\n",
       "      <th>aesir</th>\n",
       "      <td>0.018</td>\n",
       "      <td>0.166</td>\n",
       "      <td>0.327</td>\n",
       "      <td>0.243</td>\n",
       "      <td>0.127</td>\n",
       "      <td>0.119</td>\n",
       "      <td>good</td>\n",
       "    </tr>\n",
       "    <tr>\n",
       "      <th>aloes</th>\n",
       "      <td>0.017</td>\n",
       "      <td>0.165</td>\n",
       "      <td>0.351</td>\n",
       "      <td>0.229</td>\n",
       "      <td>0.119</td>\n",
       "      <td>0.119</td>\n",
       "      <td>good</td>\n",
       "    </tr>\n",
       "    <tr>\n",
       "      <th>toeas</th>\n",
       "      <td>0.015</td>\n",
       "      <td>0.157</td>\n",
       "      <td>0.326</td>\n",
       "      <td>0.246</td>\n",
       "      <td>0.121</td>\n",
       "      <td>0.135</td>\n",
       "      <td>good</td>\n",
       "    </tr>\n",
       "    <tr>\n",
       "      <th>jaffa</th>\n",
       "      <td>0.003</td>\n",
       "      <td>0.048</td>\n",
       "      <td>0.221</td>\n",
       "      <td>0.364</td>\n",
       "      <td>0.193</td>\n",
       "      <td>0.171</td>\n",
       "      <td>bad</td>\n",
       "    </tr>\n",
       "    <tr>\n",
       "      <th>cocco</th>\n",
       "      <td>0.000</td>\n",
       "      <td>0.053</td>\n",
       "      <td>0.270</td>\n",
       "      <td>0.322</td>\n",
       "      <td>0.186</td>\n",
       "      <td>0.169</td>\n",
       "      <td>bad</td>\n",
       "    </tr>\n",
       "    <tr>\n",
       "      <th>gyppy</th>\n",
       "      <td>0.002</td>\n",
       "      <td>0.065</td>\n",
       "      <td>0.290</td>\n",
       "      <td>0.335</td>\n",
       "      <td>0.175</td>\n",
       "      <td>0.133</td>\n",
       "      <td>bad</td>\n",
       "    </tr>\n",
       "    <tr>\n",
       "      <th>zocco</th>\n",
       "      <td>0.004</td>\n",
       "      <td>0.056</td>\n",
       "      <td>0.255</td>\n",
       "      <td>0.337</td>\n",
       "      <td>0.173</td>\n",
       "      <td>0.175</td>\n",
       "      <td>bad</td>\n",
       "    </tr>\n",
       "    <tr>\n",
       "      <th>zoppo</th>\n",
       "      <td>0.002</td>\n",
       "      <td>0.040</td>\n",
       "      <td>0.279</td>\n",
       "      <td>0.341</td>\n",
       "      <td>0.180</td>\n",
       "      <td>0.158</td>\n",
       "      <td>bad</td>\n",
       "    </tr>\n",
       "    <tr>\n",
       "      <th>jinni</th>\n",
       "      <td>0.005</td>\n",
       "      <td>0.063</td>\n",
       "      <td>0.287</td>\n",
       "      <td>0.306</td>\n",
       "      <td>0.182</td>\n",
       "      <td>0.157</td>\n",
       "      <td>bad</td>\n",
       "    </tr>\n",
       "    <tr>\n",
       "      <th>civic</th>\n",
       "      <td>0.001</td>\n",
       "      <td>0.064</td>\n",
       "      <td>0.258</td>\n",
       "      <td>0.326</td>\n",
       "      <td>0.192</td>\n",
       "      <td>0.159</td>\n",
       "      <td>bad</td>\n",
       "    </tr>\n",
       "    <tr>\n",
       "      <th>qajaq</th>\n",
       "      <td>0.001</td>\n",
       "      <td>0.039</td>\n",
       "      <td>0.202</td>\n",
       "      <td>0.346</td>\n",
       "      <td>0.209</td>\n",
       "      <td>0.203</td>\n",
       "      <td>bad</td>\n",
       "    </tr>\n",
       "    <tr>\n",
       "      <th>immix</th>\n",
       "      <td>0.001</td>\n",
       "      <td>0.047</td>\n",
       "      <td>0.272</td>\n",
       "      <td>0.335</td>\n",
       "      <td>0.190</td>\n",
       "      <td>0.155</td>\n",
       "      <td>bad</td>\n",
       "    </tr>\n",
       "    <tr>\n",
       "      <th>xylyl</th>\n",
       "      <td>0.004</td>\n",
       "      <td>0.048</td>\n",
       "      <td>0.283</td>\n",
       "      <td>0.314</td>\n",
       "      <td>0.173</td>\n",
       "      <td>0.178</td>\n",
       "      <td>bad</td>\n",
       "    </tr>\n",
       "    <tr>\n",
       "      <th>roops</th>\n",
       "      <td>0.003</td>\n",
       "      <td>0.117</td>\n",
       "      <td>0.369</td>\n",
       "      <td>0.271</td>\n",
       "      <td>0.102</td>\n",
       "      <td>0.138</td>\n",
       "      <td>random</td>\n",
       "    </tr>\n",
       "    <tr>\n",
       "      <th>ranee</th>\n",
       "      <td>0.008</td>\n",
       "      <td>0.126</td>\n",
       "      <td>0.337</td>\n",
       "      <td>0.265</td>\n",
       "      <td>0.141</td>\n",
       "      <td>0.123</td>\n",
       "      <td>random</td>\n",
       "    </tr>\n",
       "    <tr>\n",
       "      <th>kloof</th>\n",
       "      <td>0.010</td>\n",
       "      <td>0.105</td>\n",
       "      <td>0.324</td>\n",
       "      <td>0.312</td>\n",
       "      <td>0.124</td>\n",
       "      <td>0.125</td>\n",
       "      <td>random</td>\n",
       "    </tr>\n",
       "    <tr>\n",
       "      <th>ingle</th>\n",
       "      <td>0.011</td>\n",
       "      <td>0.147</td>\n",
       "      <td>0.370</td>\n",
       "      <td>0.240</td>\n",
       "      <td>0.114</td>\n",
       "      <td>0.118</td>\n",
       "      <td>random</td>\n",
       "    </tr>\n",
       "    <tr>\n",
       "      <th>roomy</th>\n",
       "      <td>0.003</td>\n",
       "      <td>0.109</td>\n",
       "      <td>0.322</td>\n",
       "      <td>0.279</td>\n",
       "      <td>0.153</td>\n",
       "      <td>0.134</td>\n",
       "      <td>random</td>\n",
       "    </tr>\n",
       "    <tr>\n",
       "      <th>wages</th>\n",
       "      <td>0.010</td>\n",
       "      <td>0.141</td>\n",
       "      <td>0.317</td>\n",
       "      <td>0.265</td>\n",
       "      <td>0.155</td>\n",
       "      <td>0.112</td>\n",
       "      <td>random</td>\n",
       "    </tr>\n",
       "    <tr>\n",
       "      <th>manul</th>\n",
       "      <td>0.016</td>\n",
       "      <td>0.162</td>\n",
       "      <td>0.354</td>\n",
       "      <td>0.251</td>\n",
       "      <td>0.134</td>\n",
       "      <td>0.083</td>\n",
       "      <td>random</td>\n",
       "    </tr>\n",
       "    <tr>\n",
       "      <th>latke</th>\n",
       "      <td>0.009</td>\n",
       "      <td>0.181</td>\n",
       "      <td>0.355</td>\n",
       "      <td>0.243</td>\n",
       "      <td>0.111</td>\n",
       "      <td>0.101</td>\n",
       "      <td>random</td>\n",
       "    </tr>\n",
       "    <tr>\n",
       "      <th>educt</th>\n",
       "      <td>0.009</td>\n",
       "      <td>0.130</td>\n",
       "      <td>0.355</td>\n",
       "      <td>0.264</td>\n",
       "      <td>0.131</td>\n",
       "      <td>0.111</td>\n",
       "      <td>random</td>\n",
       "    </tr>\n",
       "    <tr>\n",
       "      <th>roary</th>\n",
       "      <td>0.005</td>\n",
       "      <td>0.099</td>\n",
       "      <td>0.319</td>\n",
       "      <td>0.269</td>\n",
       "      <td>0.166</td>\n",
       "      <td>0.142</td>\n",
       "      <td>random</td>\n",
       "    </tr>\n",
       "  </tbody>\n",
       "</table>\n",
       "</div>"
      ],
      "text/plain": [
       "           2      3      4      5      6  Failed category\n",
       "soare  0.015  0.158  0.345  0.239  0.144   0.099     good\n",
       "arose  0.010  0.152  0.325  0.258  0.129   0.126     good\n",
       "aeros  0.013  0.162  0.327  0.254  0.126   0.118     good\n",
       "serai  0.017  0.160  0.353  0.227  0.130   0.113     good\n",
       "reais  0.013  0.165  0.353  0.230  0.120   0.119     good\n",
       "raise  0.008  0.164  0.327  0.246  0.129   0.126     good\n",
       "arise  0.009  0.153  0.352  0.245  0.111   0.130     good\n",
       "aesir  0.018  0.166  0.327  0.243  0.127   0.119     good\n",
       "aloes  0.017  0.165  0.351  0.229  0.119   0.119     good\n",
       "toeas  0.015  0.157  0.326  0.246  0.121   0.135     good\n",
       "jaffa  0.003  0.048  0.221  0.364  0.193   0.171      bad\n",
       "cocco  0.000  0.053  0.270  0.322  0.186   0.169      bad\n",
       "gyppy  0.002  0.065  0.290  0.335  0.175   0.133      bad\n",
       "zocco  0.004  0.056  0.255  0.337  0.173   0.175      bad\n",
       "zoppo  0.002  0.040  0.279  0.341  0.180   0.158      bad\n",
       "jinni  0.005  0.063  0.287  0.306  0.182   0.157      bad\n",
       "civic  0.001  0.064  0.258  0.326  0.192   0.159      bad\n",
       "qajaq  0.001  0.039  0.202  0.346  0.209   0.203      bad\n",
       "immix  0.001  0.047  0.272  0.335  0.190   0.155      bad\n",
       "xylyl  0.004  0.048  0.283  0.314  0.173   0.178      bad\n",
       "roops  0.003  0.117  0.369  0.271  0.102   0.138   random\n",
       "ranee  0.008  0.126  0.337  0.265  0.141   0.123   random\n",
       "kloof  0.010  0.105  0.324  0.312  0.124   0.125   random\n",
       "ingle  0.011  0.147  0.370  0.240  0.114   0.118   random\n",
       "roomy  0.003  0.109  0.322  0.279  0.153   0.134   random\n",
       "wages  0.010  0.141  0.317  0.265  0.155   0.112   random\n",
       "manul  0.016  0.162  0.354  0.251  0.134   0.083   random\n",
       "latke  0.009  0.181  0.355  0.243  0.111   0.101   random\n",
       "educt  0.009  0.130  0.355  0.264  0.131   0.111   random\n",
       "roary  0.005  0.099  0.319  0.269  0.166   0.142   random"
      ]
     },
     "execution_count": 61,
     "metadata": {},
     "output_type": "execute_result"
    }
   ],
   "source": [
    "df = pd.DataFrame(dict_list, index=list_of_starting_words)\n",
    "\n",
    "# Sort columns and fill empty\n",
    "df = df.reindex(sorted(df.columns), axis=1)\n",
    "df = df.fillna(0)\n",
    "\n",
    "\n",
    "# Reorder columns\n",
    "df = df.reindex(list(df.columns[1:]) +list(df.columns[:1]), axis=1)\n",
    "df = df.rename(columns={-1 : 'Failed'})\n",
    "df = df.div(1000)\n",
    "\n",
    "# Set up column to show which category each word belongs to\n",
    "category = ['good'] * 10 + ['bad'] * 10 + ['random'] * 10\n",
    "df['category'] = category\n",
    "\n",
    "df"
   ]
  },
  {
   "cell_type": "code",
   "execution_count": 69,
   "metadata": {},
   "outputs": [
    {
     "data": {
      "text/html": [
       "<div>\n",
       "<style scoped>\n",
       "    .dataframe tbody tr th:only-of-type {\n",
       "        vertical-align: middle;\n",
       "    }\n",
       "\n",
       "    .dataframe tbody tr th {\n",
       "        vertical-align: top;\n",
       "    }\n",
       "\n",
       "    .dataframe thead th {\n",
       "        text-align: right;\n",
       "    }\n",
       "</style>\n",
       "<table border=\"1\" class=\"dataframe\">\n",
       "  <thead>\n",
       "    <tr style=\"text-align: right;\">\n",
       "      <th></th>\n",
       "      <th>2</th>\n",
       "      <th>3</th>\n",
       "      <th>4</th>\n",
       "      <th>5</th>\n",
       "      <th>6</th>\n",
       "      <th>Failed</th>\n",
       "    </tr>\n",
       "    <tr>\n",
       "      <th>category</th>\n",
       "      <th></th>\n",
       "      <th></th>\n",
       "      <th></th>\n",
       "      <th></th>\n",
       "      <th></th>\n",
       "      <th></th>\n",
       "    </tr>\n",
       "  </thead>\n",
       "  <tbody>\n",
       "    <tr>\n",
       "      <th>bad</th>\n",
       "      <td>0.0023</td>\n",
       "      <td>0.0523</td>\n",
       "      <td>0.2617</td>\n",
       "      <td>0.3326</td>\n",
       "      <td>0.1853</td>\n",
       "      <td>0.1658</td>\n",
       "    </tr>\n",
       "    <tr>\n",
       "      <th>good</th>\n",
       "      <td>0.0135</td>\n",
       "      <td>0.1602</td>\n",
       "      <td>0.3386</td>\n",
       "      <td>0.2417</td>\n",
       "      <td>0.1256</td>\n",
       "      <td>0.1204</td>\n",
       "    </tr>\n",
       "    <tr>\n",
       "      <th>random</th>\n",
       "      <td>0.0084</td>\n",
       "      <td>0.1317</td>\n",
       "      <td>0.3422</td>\n",
       "      <td>0.2659</td>\n",
       "      <td>0.1331</td>\n",
       "      <td>0.1187</td>\n",
       "    </tr>\n",
       "  </tbody>\n",
       "</table>\n",
       "</div>"
      ],
      "text/plain": [
       "               2       3       4       5       6  Failed\n",
       "category                                                \n",
       "bad       0.0023  0.0523  0.2617  0.3326  0.1853  0.1658\n",
       "good      0.0135  0.1602  0.3386  0.2417  0.1256  0.1204\n",
       "random    0.0084  0.1317  0.3422  0.2659  0.1331  0.1187"
      ]
     },
     "execution_count": 69,
     "metadata": {},
     "output_type": "execute_result"
    }
   ],
   "source": [
    "average_group_score = df.groupby('category').mean()\n",
    "average_group_score"
   ]
  },
  {
   "cell_type": "code",
   "execution_count": 85,
   "metadata": {},
   "outputs": [],
   "source": [
    "cdfs = average_group_score.cumsum(axis=1)"
   ]
  },
  {
   "cell_type": "code",
   "execution_count": 86,
   "metadata": {},
   "outputs": [
    {
     "data": {
      "application/vnd.plotly.v1+json": {
       "config": {
        "plotlyServerURL": "https://plot.ly"
       },
       "data": [
        {
         "name": "Good",
         "type": "scatter",
         "x": [
          2,
          3,
          4,
          5,
          6,
          "Failed"
         ],
         "y": [
          0.013500000000000002,
          0.17370000000000002,
          0.5123,
          0.754,
          0.8795999999999999,
          0.9999999999999999
         ]
        },
        {
         "name": "Random",
         "type": "scatter",
         "x": [
          2,
          3,
          4,
          5,
          6,
          "Failed"
         ],
         "y": [
          0.0084,
          0.14009999999999997,
          0.48229999999999995,
          0.7482,
          0.8813,
          1
         ]
        },
        {
         "name": "Bad",
         "type": "scatter",
         "x": [
          2,
          3,
          4,
          5,
          6,
          "Failed"
         ],
         "y": [
          0.0023,
          0.054599999999999996,
          0.31629999999999997,
          0.6489,
          0.8342,
          1
         ]
        }
       ],
       "layout": {
        "template": {
         "data": {
          "bar": [
           {
            "error_x": {
             "color": "#2a3f5f"
            },
            "error_y": {
             "color": "#2a3f5f"
            },
            "marker": {
             "line": {
              "color": "#E5ECF6",
              "width": 0.5
             },
             "pattern": {
              "fillmode": "overlay",
              "size": 10,
              "solidity": 0.2
             }
            },
            "type": "bar"
           }
          ],
          "barpolar": [
           {
            "marker": {
             "line": {
              "color": "#E5ECF6",
              "width": 0.5
             },
             "pattern": {
              "fillmode": "overlay",
              "size": 10,
              "solidity": 0.2
             }
            },
            "type": "barpolar"
           }
          ],
          "carpet": [
           {
            "aaxis": {
             "endlinecolor": "#2a3f5f",
             "gridcolor": "white",
             "linecolor": "white",
             "minorgridcolor": "white",
             "startlinecolor": "#2a3f5f"
            },
            "baxis": {
             "endlinecolor": "#2a3f5f",
             "gridcolor": "white",
             "linecolor": "white",
             "minorgridcolor": "white",
             "startlinecolor": "#2a3f5f"
            },
            "type": "carpet"
           }
          ],
          "choropleth": [
           {
            "colorbar": {
             "outlinewidth": 0,
             "ticks": ""
            },
            "type": "choropleth"
           }
          ],
          "contour": [
           {
            "colorbar": {
             "outlinewidth": 0,
             "ticks": ""
            },
            "colorscale": [
             [
              0,
              "#0d0887"
             ],
             [
              0.1111111111111111,
              "#46039f"
             ],
             [
              0.2222222222222222,
              "#7201a8"
             ],
             [
              0.3333333333333333,
              "#9c179e"
             ],
             [
              0.4444444444444444,
              "#bd3786"
             ],
             [
              0.5555555555555556,
              "#d8576b"
             ],
             [
              0.6666666666666666,
              "#ed7953"
             ],
             [
              0.7777777777777778,
              "#fb9f3a"
             ],
             [
              0.8888888888888888,
              "#fdca26"
             ],
             [
              1,
              "#f0f921"
             ]
            ],
            "type": "contour"
           }
          ],
          "contourcarpet": [
           {
            "colorbar": {
             "outlinewidth": 0,
             "ticks": ""
            },
            "type": "contourcarpet"
           }
          ],
          "heatmap": [
           {
            "colorbar": {
             "outlinewidth": 0,
             "ticks": ""
            },
            "colorscale": [
             [
              0,
              "#0d0887"
             ],
             [
              0.1111111111111111,
              "#46039f"
             ],
             [
              0.2222222222222222,
              "#7201a8"
             ],
             [
              0.3333333333333333,
              "#9c179e"
             ],
             [
              0.4444444444444444,
              "#bd3786"
             ],
             [
              0.5555555555555556,
              "#d8576b"
             ],
             [
              0.6666666666666666,
              "#ed7953"
             ],
             [
              0.7777777777777778,
              "#fb9f3a"
             ],
             [
              0.8888888888888888,
              "#fdca26"
             ],
             [
              1,
              "#f0f921"
             ]
            ],
            "type": "heatmap"
           }
          ],
          "heatmapgl": [
           {
            "colorbar": {
             "outlinewidth": 0,
             "ticks": ""
            },
            "colorscale": [
             [
              0,
              "#0d0887"
             ],
             [
              0.1111111111111111,
              "#46039f"
             ],
             [
              0.2222222222222222,
              "#7201a8"
             ],
             [
              0.3333333333333333,
              "#9c179e"
             ],
             [
              0.4444444444444444,
              "#bd3786"
             ],
             [
              0.5555555555555556,
              "#d8576b"
             ],
             [
              0.6666666666666666,
              "#ed7953"
             ],
             [
              0.7777777777777778,
              "#fb9f3a"
             ],
             [
              0.8888888888888888,
              "#fdca26"
             ],
             [
              1,
              "#f0f921"
             ]
            ],
            "type": "heatmapgl"
           }
          ],
          "histogram": [
           {
            "marker": {
             "pattern": {
              "fillmode": "overlay",
              "size": 10,
              "solidity": 0.2
             }
            },
            "type": "histogram"
           }
          ],
          "histogram2d": [
           {
            "colorbar": {
             "outlinewidth": 0,
             "ticks": ""
            },
            "colorscale": [
             [
              0,
              "#0d0887"
             ],
             [
              0.1111111111111111,
              "#46039f"
             ],
             [
              0.2222222222222222,
              "#7201a8"
             ],
             [
              0.3333333333333333,
              "#9c179e"
             ],
             [
              0.4444444444444444,
              "#bd3786"
             ],
             [
              0.5555555555555556,
              "#d8576b"
             ],
             [
              0.6666666666666666,
              "#ed7953"
             ],
             [
              0.7777777777777778,
              "#fb9f3a"
             ],
             [
              0.8888888888888888,
              "#fdca26"
             ],
             [
              1,
              "#f0f921"
             ]
            ],
            "type": "histogram2d"
           }
          ],
          "histogram2dcontour": [
           {
            "colorbar": {
             "outlinewidth": 0,
             "ticks": ""
            },
            "colorscale": [
             [
              0,
              "#0d0887"
             ],
             [
              0.1111111111111111,
              "#46039f"
             ],
             [
              0.2222222222222222,
              "#7201a8"
             ],
             [
              0.3333333333333333,
              "#9c179e"
             ],
             [
              0.4444444444444444,
              "#bd3786"
             ],
             [
              0.5555555555555556,
              "#d8576b"
             ],
             [
              0.6666666666666666,
              "#ed7953"
             ],
             [
              0.7777777777777778,
              "#fb9f3a"
             ],
             [
              0.8888888888888888,
              "#fdca26"
             ],
             [
              1,
              "#f0f921"
             ]
            ],
            "type": "histogram2dcontour"
           }
          ],
          "mesh3d": [
           {
            "colorbar": {
             "outlinewidth": 0,
             "ticks": ""
            },
            "type": "mesh3d"
           }
          ],
          "parcoords": [
           {
            "line": {
             "colorbar": {
              "outlinewidth": 0,
              "ticks": ""
             }
            },
            "type": "parcoords"
           }
          ],
          "pie": [
           {
            "automargin": true,
            "type": "pie"
           }
          ],
          "scatter": [
           {
            "fillpattern": {
             "fillmode": "overlay",
             "size": 10,
             "solidity": 0.2
            },
            "type": "scatter"
           }
          ],
          "scatter3d": [
           {
            "line": {
             "colorbar": {
              "outlinewidth": 0,
              "ticks": ""
             }
            },
            "marker": {
             "colorbar": {
              "outlinewidth": 0,
              "ticks": ""
             }
            },
            "type": "scatter3d"
           }
          ],
          "scattercarpet": [
           {
            "marker": {
             "colorbar": {
              "outlinewidth": 0,
              "ticks": ""
             }
            },
            "type": "scattercarpet"
           }
          ],
          "scattergeo": [
           {
            "marker": {
             "colorbar": {
              "outlinewidth": 0,
              "ticks": ""
             }
            },
            "type": "scattergeo"
           }
          ],
          "scattergl": [
           {
            "marker": {
             "colorbar": {
              "outlinewidth": 0,
              "ticks": ""
             }
            },
            "type": "scattergl"
           }
          ],
          "scattermapbox": [
           {
            "marker": {
             "colorbar": {
              "outlinewidth": 0,
              "ticks": ""
             }
            },
            "type": "scattermapbox"
           }
          ],
          "scatterpolar": [
           {
            "marker": {
             "colorbar": {
              "outlinewidth": 0,
              "ticks": ""
             }
            },
            "type": "scatterpolar"
           }
          ],
          "scatterpolargl": [
           {
            "marker": {
             "colorbar": {
              "outlinewidth": 0,
              "ticks": ""
             }
            },
            "type": "scatterpolargl"
           }
          ],
          "scatterternary": [
           {
            "marker": {
             "colorbar": {
              "outlinewidth": 0,
              "ticks": ""
             }
            },
            "type": "scatterternary"
           }
          ],
          "surface": [
           {
            "colorbar": {
             "outlinewidth": 0,
             "ticks": ""
            },
            "colorscale": [
             [
              0,
              "#0d0887"
             ],
             [
              0.1111111111111111,
              "#46039f"
             ],
             [
              0.2222222222222222,
              "#7201a8"
             ],
             [
              0.3333333333333333,
              "#9c179e"
             ],
             [
              0.4444444444444444,
              "#bd3786"
             ],
             [
              0.5555555555555556,
              "#d8576b"
             ],
             [
              0.6666666666666666,
              "#ed7953"
             ],
             [
              0.7777777777777778,
              "#fb9f3a"
             ],
             [
              0.8888888888888888,
              "#fdca26"
             ],
             [
              1,
              "#f0f921"
             ]
            ],
            "type": "surface"
           }
          ],
          "table": [
           {
            "cells": {
             "fill": {
              "color": "#EBF0F8"
             },
             "line": {
              "color": "white"
             }
            },
            "header": {
             "fill": {
              "color": "#C8D4E3"
             },
             "line": {
              "color": "white"
             }
            },
            "type": "table"
           }
          ]
         },
         "layout": {
          "annotationdefaults": {
           "arrowcolor": "#2a3f5f",
           "arrowhead": 0,
           "arrowwidth": 1
          },
          "autotypenumbers": "strict",
          "coloraxis": {
           "colorbar": {
            "outlinewidth": 0,
            "ticks": ""
           }
          },
          "colorscale": {
           "diverging": [
            [
             0,
             "#8e0152"
            ],
            [
             0.1,
             "#c51b7d"
            ],
            [
             0.2,
             "#de77ae"
            ],
            [
             0.3,
             "#f1b6da"
            ],
            [
             0.4,
             "#fde0ef"
            ],
            [
             0.5,
             "#f7f7f7"
            ],
            [
             0.6,
             "#e6f5d0"
            ],
            [
             0.7,
             "#b8e186"
            ],
            [
             0.8,
             "#7fbc41"
            ],
            [
             0.9,
             "#4d9221"
            ],
            [
             1,
             "#276419"
            ]
           ],
           "sequential": [
            [
             0,
             "#0d0887"
            ],
            [
             0.1111111111111111,
             "#46039f"
            ],
            [
             0.2222222222222222,
             "#7201a8"
            ],
            [
             0.3333333333333333,
             "#9c179e"
            ],
            [
             0.4444444444444444,
             "#bd3786"
            ],
            [
             0.5555555555555556,
             "#d8576b"
            ],
            [
             0.6666666666666666,
             "#ed7953"
            ],
            [
             0.7777777777777778,
             "#fb9f3a"
            ],
            [
             0.8888888888888888,
             "#fdca26"
            ],
            [
             1,
             "#f0f921"
            ]
           ],
           "sequentialminus": [
            [
             0,
             "#0d0887"
            ],
            [
             0.1111111111111111,
             "#46039f"
            ],
            [
             0.2222222222222222,
             "#7201a8"
            ],
            [
             0.3333333333333333,
             "#9c179e"
            ],
            [
             0.4444444444444444,
             "#bd3786"
            ],
            [
             0.5555555555555556,
             "#d8576b"
            ],
            [
             0.6666666666666666,
             "#ed7953"
            ],
            [
             0.7777777777777778,
             "#fb9f3a"
            ],
            [
             0.8888888888888888,
             "#fdca26"
            ],
            [
             1,
             "#f0f921"
            ]
           ]
          },
          "colorway": [
           "#636efa",
           "#EF553B",
           "#00cc96",
           "#ab63fa",
           "#FFA15A",
           "#19d3f3",
           "#FF6692",
           "#B6E880",
           "#FF97FF",
           "#FECB52"
          ],
          "font": {
           "color": "#2a3f5f"
          },
          "geo": {
           "bgcolor": "white",
           "lakecolor": "white",
           "landcolor": "#E5ECF6",
           "showlakes": true,
           "showland": true,
           "subunitcolor": "white"
          },
          "hoverlabel": {
           "align": "left"
          },
          "hovermode": "closest",
          "mapbox": {
           "style": "light"
          },
          "paper_bgcolor": "white",
          "plot_bgcolor": "#E5ECF6",
          "polar": {
           "angularaxis": {
            "gridcolor": "white",
            "linecolor": "white",
            "ticks": ""
           },
           "bgcolor": "#E5ECF6",
           "radialaxis": {
            "gridcolor": "white",
            "linecolor": "white",
            "ticks": ""
           }
          },
          "scene": {
           "xaxis": {
            "backgroundcolor": "#E5ECF6",
            "gridcolor": "white",
            "gridwidth": 2,
            "linecolor": "white",
            "showbackground": true,
            "ticks": "",
            "zerolinecolor": "white"
           },
           "yaxis": {
            "backgroundcolor": "#E5ECF6",
            "gridcolor": "white",
            "gridwidth": 2,
            "linecolor": "white",
            "showbackground": true,
            "ticks": "",
            "zerolinecolor": "white"
           },
           "zaxis": {
            "backgroundcolor": "#E5ECF6",
            "gridcolor": "white",
            "gridwidth": 2,
            "linecolor": "white",
            "showbackground": true,
            "ticks": "",
            "zerolinecolor": "white"
           }
          },
          "shapedefaults": {
           "line": {
            "color": "#2a3f5f"
           }
          },
          "ternary": {
           "aaxis": {
            "gridcolor": "white",
            "linecolor": "white",
            "ticks": ""
           },
           "baxis": {
            "gridcolor": "white",
            "linecolor": "white",
            "ticks": ""
           },
           "bgcolor": "#E5ECF6",
           "caxis": {
            "gridcolor": "white",
            "linecolor": "white",
            "ticks": ""
           }
          },
          "title": {
           "x": 0.05
          },
          "xaxis": {
           "automargin": true,
           "gridcolor": "white",
           "linecolor": "white",
           "ticks": "",
           "title": {
            "standoff": 15
           },
           "zerolinecolor": "white",
           "zerolinewidth": 2
          },
          "yaxis": {
           "automargin": true,
           "gridcolor": "white",
           "linecolor": "white",
           "ticks": "",
           "title": {
            "standoff": 15
           },
           "zerolinecolor": "white",
           "zerolinewidth": 2
          }
         }
        },
        "title": {
         "text": "Cumulative Distribution Functions of Mean Performance"
        },
        "xaxis": {
         "dtick": 1,
         "tick0": 1,
         "title": {
          "text": "Number of Guesses"
         }
        },
        "yaxis": {
         "title": {
          "text": "Probability ff Solving"
         }
        }
       }
      }
     },
     "metadata": {},
     "output_type": "display_data"
    }
   ],
   "source": [
    "fig = go.Figure()\n",
    "\n",
    "fig.add_trace(go.Scatter(x=cdfs.columns, y=cdfs.loc['good'], name='Good'))\n",
    "fig.add_trace(go.Scatter(x=cdfs.columns, y=cdfs.loc['random'], name='Random'))\n",
    "fig.add_trace(go.Scatter(x=cdfs.columns, y=cdfs.loc['bad'], name='Bad'))\n",
    "\n",
    "fig.update_layout(\n",
    "    title='Cumulative Distribution Functions of Mean Performance',\n",
    "    xaxis_title=\"Number of Guesses\",\n",
    "    yaxis_title=\"Probability ff Solving\",\n",
    "\n",
    "    xaxis=dict(\n",
    "        tick0 = 1,\n",
    "        dtick = 1,\n",
    "    )\n",
    ")\n",
    "\n",
    "\n",
    "fig.show()"
   ]
  },
  {
   "cell_type": "code",
   "execution_count": 93,
   "metadata": {},
   "outputs": [],
   "source": [
    "def find_ks_stat_of_groups(cdfs, group1, group2):\n",
    "    return (cdfs.loc[group1] - cdfs.loc[group2]).abs().max()"
   ]
  },
  {
   "cell_type": "code",
   "execution_count": 103,
   "metadata": {},
   "outputs": [
    {
     "data": {
      "text/plain": [
       "0.196"
      ]
     },
     "execution_count": 103,
     "metadata": {},
     "output_type": "execute_result"
    }
   ],
   "source": [
    "find_ks_stat_of_groups(cdfs, 'good', 'bad')"
   ]
  },
  {
   "cell_type": "code",
   "execution_count": 100,
   "metadata": {},
   "outputs": [
    {
     "data": {
      "text/plain": [
       "6"
      ]
     },
     "execution_count": 100,
     "metadata": {},
     "output_type": "execute_result"
    }
   ],
   "source": [
    "len(cdfs.loc['good'])"
   ]
  },
  {
   "cell_type": "code",
   "execution_count": 104,
   "metadata": {},
   "outputs": [
    {
     "data": {
      "text/plain": [
       "0.6194968388404684"
      ]
     },
     "execution_count": 104,
     "metadata": {},
     "output_type": "execute_result"
    }
   ],
   "source": [
    "np.sqrt(12/36)*1.073"
   ]
  },
  {
   "cell_type": "code",
   "execution_count": null,
   "metadata": {},
   "outputs": [],
   "source": []
  }
 ],
 "metadata": {
  "interpreter": {
   "hash": "73477f0056422213d54e4dc85850dea4aa00d01bce397cede77fb76cda23599e"
  },
  "kernelspec": {
   "display_name": "Python 3.10.3 64-bit",
   "language": "python",
   "name": "python3"
  },
  "language_info": {
   "codemirror_mode": {
    "name": "ipython",
    "version": 3
   },
   "file_extension": ".py",
   "mimetype": "text/x-python",
   "name": "python",
   "nbconvert_exporter": "python",
   "pygments_lexer": "ipython3",
   "version": "3.9.7"
  },
  "orig_nbformat": 4
 },
 "nbformat": 4,
 "nbformat_minor": 2
}
